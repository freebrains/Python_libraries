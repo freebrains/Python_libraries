{
 "cells": [
  {
   "cell_type": "code",
   "execution_count": 22,
   "metadata": {},
   "outputs": [],
   "source": [
    "import numpy as np\n",
    "import pandas as pd\n",
    "import matplotlib.pyplot as plt\n",
    "from sklearn.model_selection import train_test_split\n",
    "from sklearn.metrics import f1_score\n",
    "from sklearn.metrics import precision_score\n",
    "from sklearn.metrics import recall_score\n",
    "import seaborn as sns\n",
    "from sklearn.model_selection import ShuffleSplit, cross_val_score, learning_curve\n",
    "from sklearn.metrics import classification_report\n",
    "from sklearn.feature_selection import RFE\n",
    "import statsmodels.api as sm\n",
    "import catboost as ctb\n",
    "\n",
    "%matplotlib inline"
   ]
  },
  {
   "cell_type": "code",
   "execution_count": 23,
   "metadata": {},
   "outputs": [],
   "source": [
    "def fill_nan_with_median(df, param):\n",
    "'''Функция для заполнения пропусков, в случае непрерывных параметров\n",
    "df- датафрейм, param - параметр'''\n",
    "    df.loc[df[param].isnull(), param] = df[param].median()"
   ]
  },
  {
   "cell_type": "code",
   "execution_count": 24,
   "metadata": {},
   "outputs": [],
   "source": [
    "def fill_nan_with_mode(df, param):\n",
    "'''Функция для заполнения пропусков, в случае дискретных параметров, категорий\n",
    "df- датафрейм, param - параметр'''\n",
    "    df[param].fillna(df[param].mode()[0], inplace=True)"
   ]
  },
  {
   "cell_type": "code",
   "execution_count": 37,
   "metadata": {},
   "outputs": [],
   "source": [
    "def consolidate(df, param, old_cat, new_cat):\n",
    "'''Функция для объединения нескольких категория в одну, в тех случаях, когда в категории мало наблюдений\n",
    "df - датафрейм, param - параметр, old_cat - список старых значений категории, new_cat - категория, в которую объединяются \n",
    "малочисленные категории'''\n",
    "    for i in old_cat:\n",
    "        df.loc[df[param] == i, param] = new_cat"
   ]
  },
  {
   "cell_type": "code",
   "execution_count": 26,
   "metadata": {},
   "outputs": [],
   "source": [
    "train_data = r\"C:/Users/Nick/Desktop/course_project_train.csv\"\n",
    "test_data = r\"C:/Users/Nick/Desktop/course_project_test.csv\""
   ]
  },
  {
   "cell_type": "code",
   "execution_count": 27,
   "metadata": {},
   "outputs": [],
   "source": [
    "train_set = pd.read_csv(train_data)\n",
    "test_set= pd.read_csv(test_data)"
   ]
  },
  {
   "cell_type": "code",
   "execution_count": 28,
   "metadata": {},
   "outputs": [
    {
     "data": {
      "text/html": [
       "<div>\n",
       "<style scoped>\n",
       "    .dataframe tbody tr th:only-of-type {\n",
       "        vertical-align: middle;\n",
       "    }\n",
       "\n",
       "    .dataframe tbody tr th {\n",
       "        vertical-align: top;\n",
       "    }\n",
       "\n",
       "    .dataframe thead th {\n",
       "        text-align: right;\n",
       "    }\n",
       "</style>\n",
       "<table border=\"1\" class=\"dataframe\">\n",
       "  <thead>\n",
       "    <tr style=\"text-align: right;\">\n",
       "      <th></th>\n",
       "      <th>Home Ownership</th>\n",
       "      <th>Annual Income</th>\n",
       "      <th>Years in current job</th>\n",
       "      <th>Tax Liens</th>\n",
       "      <th>Number of Open Accounts</th>\n",
       "      <th>Years of Credit History</th>\n",
       "      <th>Maximum Open Credit</th>\n",
       "      <th>Number of Credit Problems</th>\n",
       "      <th>Months since last delinquent</th>\n",
       "      <th>Bankruptcies</th>\n",
       "      <th>Purpose</th>\n",
       "      <th>Term</th>\n",
       "      <th>Current Loan Amount</th>\n",
       "      <th>Current Credit Balance</th>\n",
       "      <th>Monthly Debt</th>\n",
       "      <th>Credit Score</th>\n",
       "      <th>Credit Default</th>\n",
       "    </tr>\n",
       "  </thead>\n",
       "  <tbody>\n",
       "    <tr>\n",
       "      <th>0</th>\n",
       "      <td>Own Home</td>\n",
       "      <td>482087.0</td>\n",
       "      <td>NaN</td>\n",
       "      <td>0.0</td>\n",
       "      <td>11.0</td>\n",
       "      <td>26.3</td>\n",
       "      <td>685960.0</td>\n",
       "      <td>1.0</td>\n",
       "      <td>NaN</td>\n",
       "      <td>1.0</td>\n",
       "      <td>debt consolidation</td>\n",
       "      <td>Short Term</td>\n",
       "      <td>99999999.0</td>\n",
       "      <td>47386.0</td>\n",
       "      <td>7914.0</td>\n",
       "      <td>749.0</td>\n",
       "      <td>0.0</td>\n",
       "    </tr>\n",
       "    <tr>\n",
       "      <th>1</th>\n",
       "      <td>Own Home</td>\n",
       "      <td>1025487.0</td>\n",
       "      <td>10+ years</td>\n",
       "      <td>0.0</td>\n",
       "      <td>15.0</td>\n",
       "      <td>15.3</td>\n",
       "      <td>1181730.0</td>\n",
       "      <td>0.0</td>\n",
       "      <td>NaN</td>\n",
       "      <td>0.0</td>\n",
       "      <td>debt consolidation</td>\n",
       "      <td>Long Term</td>\n",
       "      <td>264968.0</td>\n",
       "      <td>394972.0</td>\n",
       "      <td>18373.0</td>\n",
       "      <td>737.0</td>\n",
       "      <td>1.0</td>\n",
       "    </tr>\n",
       "    <tr>\n",
       "      <th>2</th>\n",
       "      <td>Home Mortgage</td>\n",
       "      <td>751412.0</td>\n",
       "      <td>8 years</td>\n",
       "      <td>0.0</td>\n",
       "      <td>11.0</td>\n",
       "      <td>35.0</td>\n",
       "      <td>1182434.0</td>\n",
       "      <td>0.0</td>\n",
       "      <td>NaN</td>\n",
       "      <td>0.0</td>\n",
       "      <td>debt consolidation</td>\n",
       "      <td>Short Term</td>\n",
       "      <td>99999999.0</td>\n",
       "      <td>308389.0</td>\n",
       "      <td>13651.0</td>\n",
       "      <td>742.0</td>\n",
       "      <td>0.0</td>\n",
       "    </tr>\n",
       "    <tr>\n",
       "      <th>3</th>\n",
       "      <td>Own Home</td>\n",
       "      <td>805068.0</td>\n",
       "      <td>6 years</td>\n",
       "      <td>0.0</td>\n",
       "      <td>8.0</td>\n",
       "      <td>22.5</td>\n",
       "      <td>147400.0</td>\n",
       "      <td>1.0</td>\n",
       "      <td>NaN</td>\n",
       "      <td>1.0</td>\n",
       "      <td>debt consolidation</td>\n",
       "      <td>Short Term</td>\n",
       "      <td>121396.0</td>\n",
       "      <td>95855.0</td>\n",
       "      <td>11338.0</td>\n",
       "      <td>694.0</td>\n",
       "      <td>0.0</td>\n",
       "    </tr>\n",
       "    <tr>\n",
       "      <th>4</th>\n",
       "      <td>Rent</td>\n",
       "      <td>776264.0</td>\n",
       "      <td>8 years</td>\n",
       "      <td>0.0</td>\n",
       "      <td>13.0</td>\n",
       "      <td>13.6</td>\n",
       "      <td>385836.0</td>\n",
       "      <td>1.0</td>\n",
       "      <td>NaN</td>\n",
       "      <td>0.0</td>\n",
       "      <td>debt consolidation</td>\n",
       "      <td>Short Term</td>\n",
       "      <td>125840.0</td>\n",
       "      <td>93309.0</td>\n",
       "      <td>7180.0</td>\n",
       "      <td>719.0</td>\n",
       "      <td>0.0</td>\n",
       "    </tr>\n",
       "  </tbody>\n",
       "</table>\n",
       "</div>"
      ],
      "text/plain": [
       "  Home Ownership  Annual Income Years in current job  Tax Liens  \\\n",
       "0       Own Home       482087.0                  NaN        0.0   \n",
       "1       Own Home      1025487.0            10+ years        0.0   \n",
       "2  Home Mortgage       751412.0              8 years        0.0   \n",
       "3       Own Home       805068.0              6 years        0.0   \n",
       "4           Rent       776264.0              8 years        0.0   \n",
       "\n",
       "   Number of Open Accounts  Years of Credit History  Maximum Open Credit  \\\n",
       "0                     11.0                     26.3             685960.0   \n",
       "1                     15.0                     15.3            1181730.0   \n",
       "2                     11.0                     35.0            1182434.0   \n",
       "3                      8.0                     22.5             147400.0   \n",
       "4                     13.0                     13.6             385836.0   \n",
       "\n",
       "   Number of Credit Problems  Months since last delinquent  Bankruptcies  \\\n",
       "0                        1.0                           NaN           1.0   \n",
       "1                        0.0                           NaN           0.0   \n",
       "2                        0.0                           NaN           0.0   \n",
       "3                        1.0                           NaN           1.0   \n",
       "4                        1.0                           NaN           0.0   \n",
       "\n",
       "              Purpose        Term  Current Loan Amount  \\\n",
       "0  debt consolidation  Short Term           99999999.0   \n",
       "1  debt consolidation   Long Term             264968.0   \n",
       "2  debt consolidation  Short Term           99999999.0   \n",
       "3  debt consolidation  Short Term             121396.0   \n",
       "4  debt consolidation  Short Term             125840.0   \n",
       "\n",
       "   Current Credit Balance  Monthly Debt  Credit Score  Credit Default  \n",
       "0                 47386.0        7914.0         749.0             0.0  \n",
       "1                394972.0       18373.0         737.0             1.0  \n",
       "2                308389.0       13651.0         742.0             0.0  \n",
       "3                 95855.0       11338.0         694.0             0.0  \n",
       "4                 93309.0        7180.0         719.0             0.0  "
      ]
     },
     "execution_count": 28,
     "metadata": {},
     "output_type": "execute_result"
    }
   ],
   "source": [
    "# Объединяю тренировочную и тестовую датасеты\n",
    "new_data = pd.concat([train_set, test_set])\n",
    "new_data = new_data.reset_index(drop=True)\n",
    "new_data.head()"
   ]
  },
  {
   "cell_type": "markdown",
   "metadata": {},
   "source": [
    "### Анализ данных ###"
   ]
  },
  {
   "cell_type": "code",
   "execution_count": 29,
   "metadata": {},
   "outputs": [
    {
     "name": "stdout",
     "output_type": "stream",
     "text": [
      "<class 'pandas.core.frame.DataFrame'>\n",
      "RangeIndex: 10000 entries, 0 to 9999\n",
      "Data columns (total 17 columns):\n",
      " #   Column                        Non-Null Count  Dtype  \n",
      "---  ------                        --------------  -----  \n",
      " 0   Home Ownership                10000 non-null  object \n",
      " 1   Annual Income                 7930 non-null   float64\n",
      " 2   Years in current job          9543 non-null   object \n",
      " 3   Tax Liens                     10000 non-null  float64\n",
      " 4   Number of Open Accounts       10000 non-null  float64\n",
      " 5   Years of Credit History       10000 non-null  float64\n",
      " 6   Maximum Open Credit           10000 non-null  float64\n",
      " 7   Number of Credit Problems     10000 non-null  float64\n",
      " 8   Months since last delinquent  4561 non-null   float64\n",
      " 9   Bankruptcies                  9983 non-null   float64\n",
      " 10  Purpose                       10000 non-null  object \n",
      " 11  Term                          10000 non-null  object \n",
      " 12  Current Loan Amount           10000 non-null  float64\n",
      " 13  Current Credit Balance        10000 non-null  float64\n",
      " 14  Monthly Debt                  10000 non-null  float64\n",
      " 15  Credit Score                  7930 non-null   float64\n",
      " 16  Credit Default                7500 non-null   float64\n",
      "dtypes: float64(13), object(4)\n",
      "memory usage: 1.3+ MB\n"
     ]
    }
   ],
   "source": [
    "new_data.info()"
   ]
  },
  {
   "cell_type": "code",
   "execution_count": 30,
   "metadata": {},
   "outputs": [
    {
     "data": {
      "text/html": [
       "<div>\n",
       "<style scoped>\n",
       "    .dataframe tbody tr th:only-of-type {\n",
       "        vertical-align: middle;\n",
       "    }\n",
       "\n",
       "    .dataframe tbody tr th {\n",
       "        vertical-align: top;\n",
       "    }\n",
       "\n",
       "    .dataframe thead th {\n",
       "        text-align: right;\n",
       "    }\n",
       "</style>\n",
       "<table border=\"1\" class=\"dataframe\">\n",
       "  <thead>\n",
       "    <tr style=\"text-align: right;\">\n",
       "      <th></th>\n",
       "      <th>Annual Income</th>\n",
       "      <th>Tax Liens</th>\n",
       "      <th>Number of Open Accounts</th>\n",
       "      <th>Years of Credit History</th>\n",
       "      <th>Maximum Open Credit</th>\n",
       "      <th>Number of Credit Problems</th>\n",
       "      <th>Months since last delinquent</th>\n",
       "      <th>Bankruptcies</th>\n",
       "      <th>Current Loan Amount</th>\n",
       "      <th>Current Credit Balance</th>\n",
       "      <th>Monthly Debt</th>\n",
       "      <th>Credit Score</th>\n",
       "      <th>Credit Default</th>\n",
       "    </tr>\n",
       "  </thead>\n",
       "  <tbody>\n",
       "    <tr>\n",
       "      <th>count</th>\n",
       "      <td>7.930000e+03</td>\n",
       "      <td>10000.000000</td>\n",
       "      <td>10000.00000</td>\n",
       "      <td>10000.000000</td>\n",
       "      <td>1.000000e+04</td>\n",
       "      <td>10000.00000</td>\n",
       "      <td>4561.000000</td>\n",
       "      <td>9983.000000</td>\n",
       "      <td>1.000000e+04</td>\n",
       "      <td>1.000000e+04</td>\n",
       "      <td>10000.000000</td>\n",
       "      <td>7930.000000</td>\n",
       "      <td>7500.000000</td>\n",
       "    </tr>\n",
       "    <tr>\n",
       "      <th>mean</th>\n",
       "      <td>1.366525e+06</td>\n",
       "      <td>0.031400</td>\n",
       "      <td>11.14430</td>\n",
       "      <td>18.319580</td>\n",
       "      <td>8.865079e+05</td>\n",
       "      <td>0.16800</td>\n",
       "      <td>34.564569</td>\n",
       "      <td>0.114595</td>\n",
       "      <td>1.194381e+07</td>\n",
       "      <td>2.914741e+05</td>\n",
       "      <td>18303.675600</td>\n",
       "      <td>1171.992182</td>\n",
       "      <td>0.281733</td>\n",
       "    </tr>\n",
       "    <tr>\n",
       "      <th>std</th>\n",
       "      <td>8.638276e+05</td>\n",
       "      <td>0.304341</td>\n",
       "      <td>4.89476</td>\n",
       "      <td>7.095357</td>\n",
       "      <td>1.389982e+07</td>\n",
       "      <td>0.51459</td>\n",
       "      <td>21.771990</td>\n",
       "      <td>0.349729</td>\n",
       "      <td>3.200878e+07</td>\n",
       "      <td>3.339979e+05</td>\n",
       "      <td>11831.647516</td>\n",
       "      <td>1639.812951</td>\n",
       "      <td>0.449874</td>\n",
       "    </tr>\n",
       "    <tr>\n",
       "      <th>min</th>\n",
       "      <td>1.065330e+05</td>\n",
       "      <td>0.000000</td>\n",
       "      <td>1.00000</td>\n",
       "      <td>3.900000</td>\n",
       "      <td>0.000000e+00</td>\n",
       "      <td>0.00000</td>\n",
       "      <td>0.000000</td>\n",
       "      <td>0.000000</td>\n",
       "      <td>1.124200e+04</td>\n",
       "      <td>0.000000e+00</td>\n",
       "      <td>0.000000</td>\n",
       "      <td>585.000000</td>\n",
       "      <td>0.000000</td>\n",
       "    </tr>\n",
       "    <tr>\n",
       "      <th>25%</th>\n",
       "      <td>8.459892e+05</td>\n",
       "      <td>0.000000</td>\n",
       "      <td>8.00000</td>\n",
       "      <td>13.500000</td>\n",
       "      <td>2.788115e+05</td>\n",
       "      <td>0.00000</td>\n",
       "      <td>16.000000</td>\n",
       "      <td>0.000000</td>\n",
       "      <td>1.805485e+05</td>\n",
       "      <td>1.132258e+05</td>\n",
       "      <td>10059.750000</td>\n",
       "      <td>711.000000</td>\n",
       "      <td>0.000000</td>\n",
       "    </tr>\n",
       "    <tr>\n",
       "      <th>50%</th>\n",
       "      <td>1.168814e+06</td>\n",
       "      <td>0.000000</td>\n",
       "      <td>10.00000</td>\n",
       "      <td>17.000000</td>\n",
       "      <td>4.781810e+05</td>\n",
       "      <td>0.00000</td>\n",
       "      <td>32.000000</td>\n",
       "      <td>0.000000</td>\n",
       "      <td>3.117180e+05</td>\n",
       "      <td>2.090190e+05</td>\n",
       "      <td>16200.000000</td>\n",
       "      <td>731.000000</td>\n",
       "      <td>0.000000</td>\n",
       "    </tr>\n",
       "    <tr>\n",
       "      <th>75%</th>\n",
       "      <td>1.638693e+06</td>\n",
       "      <td>0.000000</td>\n",
       "      <td>14.00000</td>\n",
       "      <td>22.000000</td>\n",
       "      <td>7.943595e+05</td>\n",
       "      <td>0.00000</td>\n",
       "      <td>50.000000</td>\n",
       "      <td>0.000000</td>\n",
       "      <td>5.210700e+05</td>\n",
       "      <td>3.619500e+05</td>\n",
       "      <td>23888.250000</td>\n",
       "      <td>743.000000</td>\n",
       "      <td>1.000000</td>\n",
       "    </tr>\n",
       "    <tr>\n",
       "      <th>max</th>\n",
       "      <td>1.497561e+07</td>\n",
       "      <td>15.000000</td>\n",
       "      <td>48.00000</td>\n",
       "      <td>57.700000</td>\n",
       "      <td>1.304726e+09</td>\n",
       "      <td>15.00000</td>\n",
       "      <td>118.000000</td>\n",
       "      <td>5.000000</td>\n",
       "      <td>1.000000e+08</td>\n",
       "      <td>6.506797e+06</td>\n",
       "      <td>136679.000000</td>\n",
       "      <td>7510.000000</td>\n",
       "      <td>1.000000</td>\n",
       "    </tr>\n",
       "  </tbody>\n",
       "</table>\n",
       "</div>"
      ],
      "text/plain": [
       "       Annual Income     Tax Liens  Number of Open Accounts  \\\n",
       "count   7.930000e+03  10000.000000              10000.00000   \n",
       "mean    1.366525e+06      0.031400                 11.14430   \n",
       "std     8.638276e+05      0.304341                  4.89476   \n",
       "min     1.065330e+05      0.000000                  1.00000   \n",
       "25%     8.459892e+05      0.000000                  8.00000   \n",
       "50%     1.168814e+06      0.000000                 10.00000   \n",
       "75%     1.638693e+06      0.000000                 14.00000   \n",
       "max     1.497561e+07     15.000000                 48.00000   \n",
       "\n",
       "       Years of Credit History  Maximum Open Credit  \\\n",
       "count             10000.000000         1.000000e+04   \n",
       "mean                 18.319580         8.865079e+05   \n",
       "std                   7.095357         1.389982e+07   \n",
       "min                   3.900000         0.000000e+00   \n",
       "25%                  13.500000         2.788115e+05   \n",
       "50%                  17.000000         4.781810e+05   \n",
       "75%                  22.000000         7.943595e+05   \n",
       "max                  57.700000         1.304726e+09   \n",
       "\n",
       "       Number of Credit Problems  Months since last delinquent  Bankruptcies  \\\n",
       "count                10000.00000                   4561.000000   9983.000000   \n",
       "mean                     0.16800                     34.564569      0.114595   \n",
       "std                      0.51459                     21.771990      0.349729   \n",
       "min                      0.00000                      0.000000      0.000000   \n",
       "25%                      0.00000                     16.000000      0.000000   \n",
       "50%                      0.00000                     32.000000      0.000000   \n",
       "75%                      0.00000                     50.000000      0.000000   \n",
       "max                     15.00000                    118.000000      5.000000   \n",
       "\n",
       "       Current Loan Amount  Current Credit Balance   Monthly Debt  \\\n",
       "count         1.000000e+04            1.000000e+04   10000.000000   \n",
       "mean          1.194381e+07            2.914741e+05   18303.675600   \n",
       "std           3.200878e+07            3.339979e+05   11831.647516   \n",
       "min           1.124200e+04            0.000000e+00       0.000000   \n",
       "25%           1.805485e+05            1.132258e+05   10059.750000   \n",
       "50%           3.117180e+05            2.090190e+05   16200.000000   \n",
       "75%           5.210700e+05            3.619500e+05   23888.250000   \n",
       "max           1.000000e+08            6.506797e+06  136679.000000   \n",
       "\n",
       "       Credit Score  Credit Default  \n",
       "count   7930.000000     7500.000000  \n",
       "mean    1171.992182        0.281733  \n",
       "std     1639.812951        0.449874  \n",
       "min      585.000000        0.000000  \n",
       "25%      711.000000        0.000000  \n",
       "50%      731.000000        0.000000  \n",
       "75%      743.000000        1.000000  \n",
       "max     7510.000000        1.000000  "
      ]
     },
     "execution_count": 30,
     "metadata": {},
     "output_type": "execute_result"
    }
   ],
   "source": [
    "new_data.describe()"
   ]
  },
  {
   "cell_type": "code",
   "execution_count": 31,
   "metadata": {},
   "outputs": [],
   "source": [
    "features_cat = ['Home Ownership', 'Years in current job', 'Tax Liens', 'Number of Open Accounts',\n",
    "               'Number of Credit Problems', 'Bankruptcies', 'Purpose', 'Term']\n",
    "features_all = ['Home Ownership', 'Annual Income', 'Years in current job', 'Tax Liens', 'Number of Open Accounts', \n",
    "                'Years of Credit History', 'Maximum Open Credit', 'Number of Credit Problems', 'Months since last delinquent',\n",
    "                'Bankruptcies', 'Purpose', 'Term', 'Current Loan Amount', 'Current Credit Balance', 'Monthly Debt', \n",
    "               'Credit Score']"
   ]
  },
  {
   "cell_type": "code",
   "execution_count": 32,
   "metadata": {},
   "outputs": [
    {
     "name": "stdout",
     "output_type": "stream",
     "text": [
      "Home Ownership \n",
      " Home Mortgage    4862\n",
      "Rent             4224\n",
      "Own Home          895\n",
      "Have Mortgage      19\n",
      "Name: Home Ownership, dtype: int64 \n",
      "\n",
      "\n",
      "Years in current job \n",
      " 10+ years    3142\n",
      "2 years       917\n",
      "3 years       848\n",
      "< 1 year      770\n",
      "5 years       685\n",
      "1 year        657\n",
      "4 years       621\n",
      "6 years       563\n",
      "7 years       536\n",
      "8 years       446\n",
      "9 years       358\n",
      "Name: Years in current job, dtype: int64 \n",
      "\n",
      "\n",
      "Tax Liens \n",
      " 0.0     9811\n",
      "1.0      128\n",
      "2.0       35\n",
      "3.0       11\n",
      "4.0        7\n",
      "5.0        3\n",
      "6.0        3\n",
      "15.0       1\n",
      "7.0        1\n",
      "Name: Tax Liens, dtype: int64 \n",
      "\n",
      "\n",
      "Number of Open Accounts \n",
      " 9.0     973\n",
      "11.0    903\n",
      "10.0    895\n",
      "8.0     861\n",
      "7.0     789\n",
      "12.0    766\n",
      "6.0     687\n",
      "13.0    643\n",
      "14.0    579\n",
      "5.0     431\n",
      "15.0    410\n",
      "16.0    346\n",
      "17.0    298\n",
      "4.0     275\n",
      "18.0    195\n",
      "19.0    185\n",
      "20.0    130\n",
      "3.0     124\n",
      "21.0    107\n",
      "23.0     76\n",
      "22.0     75\n",
      "24.0     59\n",
      "25.0     38\n",
      "2.0      35\n",
      "27.0     24\n",
      "26.0     17\n",
      "28.0     17\n",
      "30.0     17\n",
      "29.0     11\n",
      "33.0      8\n",
      "31.0      7\n",
      "32.0      6\n",
      "34.0      3\n",
      "37.0      2\n",
      "41.0      1\n",
      "48.0      1\n",
      "38.0      1\n",
      "1.0       1\n",
      "36.0      1\n",
      "42.0      1\n",
      "35.0      1\n",
      "43.0      1\n",
      "Name: Number of Open Accounts, dtype: int64 \n",
      "\n",
      "\n",
      "Years of Credit History \n",
      " 16.0    131\n",
      "15.0    126\n",
      "16.5    126\n",
      "17.0    116\n",
      "14.0    115\n",
      "       ... \n",
      "36.1      1\n",
      "48.3      1\n",
      "35.7      1\n",
      "49.3      1\n",
      "45.9      1\n",
      "Name: Years of Credit History, Length: 423, dtype: int64 \n",
      "\n",
      "\n",
      "Number of Credit Problems \n",
      " 0.0     8646\n",
      "1.0     1162\n",
      "2.0      122\n",
      "3.0       42\n",
      "5.0       11\n",
      "4.0       10\n",
      "6.0        4\n",
      "7.0        2\n",
      "15.0       1\n",
      "Name: Number of Credit Problems, dtype: int64 \n",
      "\n",
      "\n",
      "Bankruptcies \n",
      " 0.0    8912\n",
      "1.0    1020\n",
      "2.0      36\n",
      "3.0      10\n",
      "4.0       3\n",
      "5.0       2\n",
      "Name: Bankruptcies, dtype: int64 \n",
      "\n",
      "\n",
      "Purpose \n",
      " debt consolidation      7917\n",
      "other                    905\n",
      "home improvements        552\n",
      "business loan            159\n",
      "buy a car                130\n",
      "medical bills             98\n",
      "buy house                 53\n",
      "take a trip               51\n",
      "major purchase            49\n",
      "small business            31\n",
      "wedding                   17\n",
      "educational expenses      13\n",
      "moving                    12\n",
      "vacation                  11\n",
      "renewable energy           2\n",
      "Name: Purpose, dtype: int64 \n",
      "\n",
      "\n",
      "Term \n",
      " Short Term    7417\n",
      "Long Term     2583\n",
      "Name: Term, dtype: int64 \n",
      "\n",
      "\n"
     ]
    }
   ],
   "source": [
    "# Просматриваю в категориальных параметрах сколько наблюдений сделано для каждой категории.\n",
    "# Нужно стараться уходить от наличия категория с наблюдениями < 10, так как при разделении на фолды\n",
    "# в один фолд могут попасть не все категории, что будет увеличивать переобучение\n",
    "for i in features_cat:\n",
    "    print (i, '\\n', new_data[i].value_counts(), '\\n\\n')"
   ]
  },
  {
   "cell_type": "code",
   "execution_count": 33,
   "metadata": {},
   "outputs": [
    {
     "name": "stdout",
     "output_type": "stream",
     "text": [
      "Home Ownership : 0 \n",
      "\n",
      "Annual Income : 2070 \n",
      "\n",
      "Years in current job : 457 \n",
      "\n",
      "Tax Liens : 0 \n",
      "\n",
      "Number of Open Accounts : 0 \n",
      "\n",
      "Years of Credit History : 0 \n",
      "\n",
      "Maximum Open Credit : 0 \n",
      "\n",
      "Number of Credit Problems : 0 \n",
      "\n",
      "Months since last delinquent : 5439 \n",
      "\n",
      "Bankruptcies : 17 \n",
      "\n",
      "Purpose : 0 \n",
      "\n",
      "Term : 0 \n",
      "\n",
      "Current Loan Amount : 0 \n",
      "\n",
      "Current Credit Balance : 0 \n",
      "\n",
      "Monthly Debt : 0 \n",
      "\n",
      "Credit Score : 2070 \n",
      "\n"
     ]
    }
   ],
   "source": [
    "# Вычисляю пропуски \n",
    "for i in features_all:\n",
    "    print(i, ':', pd.isnull(new_data[i]).sum(), '\\n')"
   ]
  },
  {
   "cell_type": "markdown",
   "metadata": {},
   "source": [
    "### Заполнение пропущенных данных и объединение маленьких категорий"
   ]
  },
  {
   "cell_type": "code",
   "execution_count": 34,
   "metadata": {},
   "outputs": [],
   "source": [
    "# Заменяю пропуски медианой или модой, в зависимости от типа параметра\n",
    "fill_nan_with_median(new_data, 'Annual Income')\n",
    "fill_nan_with_median(new_data, 'Months since last delinquent')\n",
    "fill_nan_with_median(new_data, 'Credit Score')\n",
    "fill_nan_with_median(new_data, 'Bankruptcies')\n",
    "fill_nan_with_mode(new_data, 'Years in current job')"
   ]
  },
  {
   "cell_type": "code",
   "execution_count": 35,
   "metadata": {},
   "outputs": [
    {
     "name": "stdout",
     "output_type": "stream",
     "text": [
      "Home Ownership : 0 \n",
      "\n",
      "Annual Income : 0 \n",
      "\n",
      "Years in current job : 0 \n",
      "\n",
      "Tax Liens : 0 \n",
      "\n",
      "Number of Open Accounts : 0 \n",
      "\n",
      "Years of Credit History : 0 \n",
      "\n",
      "Maximum Open Credit : 0 \n",
      "\n",
      "Number of Credit Problems : 0 \n",
      "\n",
      "Months since last delinquent : 0 \n",
      "\n",
      "Bankruptcies : 0 \n",
      "\n",
      "Purpose : 0 \n",
      "\n",
      "Term : 0 \n",
      "\n",
      "Current Loan Amount : 0 \n",
      "\n",
      "Current Credit Balance : 0 \n",
      "\n",
      "Monthly Debt : 0 \n",
      "\n",
      "Credit Score : 0 \n",
      "\n"
     ]
    }
   ],
   "source": [
    "for i in features_all:\n",
    "    print(i, ':', pd.isnull(new_data[i]).sum(), '\\n')"
   ]
  },
  {
   "cell_type": "code",
   "execution_count": 38,
   "metadata": {},
   "outputs": [],
   "source": [
    "# Следующие шаги направлены на удаление категорий с маленьким количесвтом наблюдейний и объединение этих категорий\n",
    "small_tax_liens = [2.0, 3.0, 4.0, 5.0, 6.0, 7.0, 15.0]\n",
    "consolidate(new_data, 'Tax Liens', small_tax_liens, 1)"
   ]
  },
  {
   "cell_type": "code",
   "execution_count": 39,
   "metadata": {},
   "outputs": [
    {
     "data": {
      "text/plain": [
       "0.0    9811\n",
       "1.0     189\n",
       "Name: Tax Liens, dtype: int64"
      ]
     },
     "execution_count": 39,
     "metadata": {},
     "output_type": "execute_result"
    }
   ],
   "source": [
    "new_data['Tax Liens'].value_counts()"
   ]
  },
  {
   "cell_type": "code",
   "execution_count": 40,
   "metadata": {},
   "outputs": [],
   "source": [
    "small_account_number = [43.0, 41.0, 48.0, 38.0, 35.0, 36.0, 42.0, 1.0, 37.0, 34.0, 32.0, 31.0, 33.0, \n",
    "                       29.0, 30.0, 28.0, 26.0, 27.0, 2.0, 25.0, 24.0, 22.0, 23.0]\n",
    "consolidate(new_data, 'Number of Open Accounts', small_account_number, 21)\n",
    "new_data['Number of Open Accounts'].value_counts()"
   ]
  },
  {
   "cell_type": "code",
   "execution_count": 55,
   "metadata": {},
   "outputs": [
    {
     "data": {
      "text/plain": [
       "0.0    8646\n",
       "1.0    1162\n",
       "2.0     192\n",
       "Name: Number of Credit Problems, dtype: int64"
      ]
     },
     "execution_count": 55,
     "metadata": {},
     "output_type": "execute_result"
    }
   ],
   "source": [
    "small_credit_problems = [3.0, 4.0, 5.0, 6.0, 7.0, 15.0]\n",
    "consolidate(new_data, 'Number of Credit Problems', small_credit_problems, 2)\n",
    "new_data['Number of Credit Problems'].value_counts()"
   ]
  },
  {
   "cell_type": "code",
   "execution_count": 59,
   "metadata": {},
   "outputs": [
    {
     "data": {
      "text/plain": [
       "0.0    8929\n",
       "1.0    1071\n",
       "Name: Bankruptcies, dtype: int64"
      ]
     },
     "execution_count": 59,
     "metadata": {},
     "output_type": "execute_result"
    }
   ],
   "source": [
    "small_bankruptcies = [2.0, 3.0, 4.0, 5.0]\n",
    "consolidate(new_data, 'Bankruptcies', small_bankruptcies, 1)\n",
    "new_data['Bankruptcies'].value_counts()"
   ]
  },
  {
   "cell_type": "code",
   "execution_count": 60,
   "metadata": {},
   "outputs": [
    {
     "data": {
      "text/plain": [
       "debt consolidation    7917\n",
       "other                  960\n",
       "home improvements      552\n",
       "business loan          159\n",
       "buy a car              130\n",
       "medical bills           98\n",
       "buy house               53\n",
       "take a trip             51\n",
       "major purchase          49\n",
       "small business          31\n",
       "Name: Purpose, dtype: int64"
      ]
     },
     "execution_count": 60,
     "metadata": {},
     "output_type": "execute_result"
    }
   ],
   "source": [
    "small_purpose = ['wedding', 'educational expenses', 'moving', 'vacation', 'renewable energy']\n",
    "consolidate(new_data, 'Purpose', small_purpose, 'other')\n",
    "new_data['Purpose'].value_counts()"
   ]
  },
  {
   "cell_type": "markdown",
   "metadata": {},
   "source": [
    "### Новый параметр"
   ]
  },
  {
   "cell_type": "code",
   "execution_count": 61,
   "metadata": {},
   "outputs": [],
   "source": [
    "# Создаю новый параметр, основанный на Annual Income. Суть в том, что я считаю сколько средств остается у клиента \n",
    "# (квартплата в зависимости от типа жилья и налоги, которые он платит)\n",
    "new_data['new param'] = new_data['Home Ownership']"
   ]
  },
  {
   "cell_type": "code",
   "execution_count": 62,
   "metadata": {},
   "outputs": [],
   "source": [
    "new_data.loc[new_data['new param'] == 'Home Mortgage', 'new param'] = new_data['Annual Income'] * 0.3 \n",
    "new_data.loc[new_data['new param'] == 'Rent', 'new param'] = new_data['Annual Income'] * 0.2 \n",
    "new_data.loc[new_data['new param'] == 'Own Home', 'new param'] = new_data['Annual Income'] * 0.003 \n",
    "new_data.loc[new_data['new param'] == 'Have Mortgage', 'new param'] = new_data['Annual Income'] * 0.3"
   ]
  },
  {
   "cell_type": "code",
   "execution_count": 63,
   "metadata": {},
   "outputs": [],
   "source": [
    "new_data['money tax liens'] = new_data['Tax Liens']\n",
    "new_data.loc[new_data['money tax liens'] == 0, 'new param'] = new_data['Annual Income'] * 0.1\n",
    "new_data.loc[new_data['money tax liens'] == 1, 'new param'] = new_data['Annual Income'] * 0.01"
   ]
  },
  {
   "cell_type": "code",
   "execution_count": 64,
   "metadata": {},
   "outputs": [],
   "source": [
    "new_data['remaining money'] = new_data['Annual Income'] - (new_data['new param'] + new_data['money tax liens']\n",
    "                                                          + new_data['Monthly Debt'])"
   ]
  },
  {
   "cell_type": "code",
   "execution_count": 65,
   "metadata": {},
   "outputs": [
    {
     "data": {
      "text/html": [
       "<div>\n",
       "<style scoped>\n",
       "    .dataframe tbody tr th:only-of-type {\n",
       "        vertical-align: middle;\n",
       "    }\n",
       "\n",
       "    .dataframe tbody tr th {\n",
       "        vertical-align: top;\n",
       "    }\n",
       "\n",
       "    .dataframe thead th {\n",
       "        text-align: right;\n",
       "    }\n",
       "</style>\n",
       "<table border=\"1\" class=\"dataframe\">\n",
       "  <thead>\n",
       "    <tr style=\"text-align: right;\">\n",
       "      <th></th>\n",
       "      <th>Home Ownership</th>\n",
       "      <th>Annual Income</th>\n",
       "      <th>Years in current job</th>\n",
       "      <th>Tax Liens</th>\n",
       "      <th>Number of Open Accounts</th>\n",
       "      <th>Years of Credit History</th>\n",
       "      <th>Maximum Open Credit</th>\n",
       "      <th>Number of Credit Problems</th>\n",
       "      <th>Months since last delinquent</th>\n",
       "      <th>Bankruptcies</th>\n",
       "      <th>Purpose</th>\n",
       "      <th>Term</th>\n",
       "      <th>Current Loan Amount</th>\n",
       "      <th>Current Credit Balance</th>\n",
       "      <th>Monthly Debt</th>\n",
       "      <th>Credit Score</th>\n",
       "      <th>Credit Default</th>\n",
       "      <th>new param</th>\n",
       "      <th>money tax liens</th>\n",
       "      <th>remaining money</th>\n",
       "    </tr>\n",
       "  </thead>\n",
       "  <tbody>\n",
       "    <tr>\n",
       "      <th>0</th>\n",
       "      <td>Own Home</td>\n",
       "      <td>482087.0</td>\n",
       "      <td>10+ years</td>\n",
       "      <td>0.0</td>\n",
       "      <td>11.0</td>\n",
       "      <td>26.3</td>\n",
       "      <td>685960.0</td>\n",
       "      <td>1.0</td>\n",
       "      <td>32.0</td>\n",
       "      <td>1.0</td>\n",
       "      <td>debt consolidation</td>\n",
       "      <td>Short Term</td>\n",
       "      <td>99999999.0</td>\n",
       "      <td>47386.0</td>\n",
       "      <td>7914.0</td>\n",
       "      <td>749.0</td>\n",
       "      <td>0.0</td>\n",
       "      <td>48208.7</td>\n",
       "      <td>0.0</td>\n",
       "      <td>425964</td>\n",
       "    </tr>\n",
       "    <tr>\n",
       "      <th>1</th>\n",
       "      <td>Own Home</td>\n",
       "      <td>1025487.0</td>\n",
       "      <td>10+ years</td>\n",
       "      <td>0.0</td>\n",
       "      <td>15.0</td>\n",
       "      <td>15.3</td>\n",
       "      <td>1181730.0</td>\n",
       "      <td>0.0</td>\n",
       "      <td>32.0</td>\n",
       "      <td>0.0</td>\n",
       "      <td>debt consolidation</td>\n",
       "      <td>Long Term</td>\n",
       "      <td>264968.0</td>\n",
       "      <td>394972.0</td>\n",
       "      <td>18373.0</td>\n",
       "      <td>737.0</td>\n",
       "      <td>1.0</td>\n",
       "      <td>102549</td>\n",
       "      <td>0.0</td>\n",
       "      <td>904565</td>\n",
       "    </tr>\n",
       "    <tr>\n",
       "      <th>2</th>\n",
       "      <td>Home Mortgage</td>\n",
       "      <td>751412.0</td>\n",
       "      <td>8 years</td>\n",
       "      <td>0.0</td>\n",
       "      <td>11.0</td>\n",
       "      <td>35.0</td>\n",
       "      <td>1182434.0</td>\n",
       "      <td>0.0</td>\n",
       "      <td>32.0</td>\n",
       "      <td>0.0</td>\n",
       "      <td>debt consolidation</td>\n",
       "      <td>Short Term</td>\n",
       "      <td>99999999.0</td>\n",
       "      <td>308389.0</td>\n",
       "      <td>13651.0</td>\n",
       "      <td>742.0</td>\n",
       "      <td>0.0</td>\n",
       "      <td>75141.2</td>\n",
       "      <td>0.0</td>\n",
       "      <td>662620</td>\n",
       "    </tr>\n",
       "    <tr>\n",
       "      <th>3</th>\n",
       "      <td>Own Home</td>\n",
       "      <td>805068.0</td>\n",
       "      <td>6 years</td>\n",
       "      <td>0.0</td>\n",
       "      <td>8.0</td>\n",
       "      <td>22.5</td>\n",
       "      <td>147400.0</td>\n",
       "      <td>1.0</td>\n",
       "      <td>32.0</td>\n",
       "      <td>1.0</td>\n",
       "      <td>debt consolidation</td>\n",
       "      <td>Short Term</td>\n",
       "      <td>121396.0</td>\n",
       "      <td>95855.0</td>\n",
       "      <td>11338.0</td>\n",
       "      <td>694.0</td>\n",
       "      <td>0.0</td>\n",
       "      <td>80506.8</td>\n",
       "      <td>0.0</td>\n",
       "      <td>713223</td>\n",
       "    </tr>\n",
       "    <tr>\n",
       "      <th>4</th>\n",
       "      <td>Rent</td>\n",
       "      <td>776264.0</td>\n",
       "      <td>8 years</td>\n",
       "      <td>0.0</td>\n",
       "      <td>13.0</td>\n",
       "      <td>13.6</td>\n",
       "      <td>385836.0</td>\n",
       "      <td>1.0</td>\n",
       "      <td>32.0</td>\n",
       "      <td>0.0</td>\n",
       "      <td>debt consolidation</td>\n",
       "      <td>Short Term</td>\n",
       "      <td>125840.0</td>\n",
       "      <td>93309.0</td>\n",
       "      <td>7180.0</td>\n",
       "      <td>719.0</td>\n",
       "      <td>0.0</td>\n",
       "      <td>77626.4</td>\n",
       "      <td>0.0</td>\n",
       "      <td>691458</td>\n",
       "    </tr>\n",
       "  </tbody>\n",
       "</table>\n",
       "</div>"
      ],
      "text/plain": [
       "  Home Ownership  Annual Income Years in current job  Tax Liens  \\\n",
       "0       Own Home       482087.0            10+ years        0.0   \n",
       "1       Own Home      1025487.0            10+ years        0.0   \n",
       "2  Home Mortgage       751412.0              8 years        0.0   \n",
       "3       Own Home       805068.0              6 years        0.0   \n",
       "4           Rent       776264.0              8 years        0.0   \n",
       "\n",
       "   Number of Open Accounts  Years of Credit History  Maximum Open Credit  \\\n",
       "0                     11.0                     26.3             685960.0   \n",
       "1                     15.0                     15.3            1181730.0   \n",
       "2                     11.0                     35.0            1182434.0   \n",
       "3                      8.0                     22.5             147400.0   \n",
       "4                     13.0                     13.6             385836.0   \n",
       "\n",
       "   Number of Credit Problems  Months since last delinquent  Bankruptcies  \\\n",
       "0                        1.0                          32.0           1.0   \n",
       "1                        0.0                          32.0           0.0   \n",
       "2                        0.0                          32.0           0.0   \n",
       "3                        1.0                          32.0           1.0   \n",
       "4                        1.0                          32.0           0.0   \n",
       "\n",
       "              Purpose        Term  Current Loan Amount  \\\n",
       "0  debt consolidation  Short Term           99999999.0   \n",
       "1  debt consolidation   Long Term             264968.0   \n",
       "2  debt consolidation  Short Term           99999999.0   \n",
       "3  debt consolidation  Short Term             121396.0   \n",
       "4  debt consolidation  Short Term             125840.0   \n",
       "\n",
       "   Current Credit Balance  Monthly Debt  Credit Score  Credit Default  \\\n",
       "0                 47386.0        7914.0         749.0             0.0   \n",
       "1                394972.0       18373.0         737.0             1.0   \n",
       "2                308389.0       13651.0         742.0             0.0   \n",
       "3                 95855.0       11338.0         694.0             0.0   \n",
       "4                 93309.0        7180.0         719.0             0.0   \n",
       "\n",
       "  new param  money tax liens remaining money  \n",
       "0   48208.7              0.0          425964  \n",
       "1    102549              0.0          904565  \n",
       "2   75141.2              0.0          662620  \n",
       "3   80506.8              0.0          713223  \n",
       "4   77626.4              0.0          691458  "
      ]
     },
     "execution_count": 65,
     "metadata": {},
     "output_type": "execute_result"
    }
   ],
   "source": [
    "new_data.head()"
   ]
  },
  {
   "cell_type": "code",
   "execution_count": 66,
   "metadata": {},
   "outputs": [],
   "source": [
    "new_data = new_data.drop(['new param', 'money tax liens'], axis=1)"
   ]
  },
  {
   "cell_type": "code",
   "execution_count": 68,
   "metadata": {},
   "outputs": [],
   "source": [
    "new_data.to_pickle(r\"D:\\GeekBrains\\Pytho_libraries pt.2\\new_data_1_classification.pkl\")"
   ]
  },
  {
   "cell_type": "code",
   "execution_count": 69,
   "metadata": {},
   "outputs": [],
   "source": [
    "new_data = pd.read_pickle(r\"D:\\GeekBrains\\Pytho_libraries pt.2\\new_data_1_classification.pkl\")"
   ]
  },
  {
   "cell_type": "code",
   "execution_count": 70,
   "metadata": {},
   "outputs": [
    {
     "data": {
      "image/png": "[encoded data removed]",
      "text/plain": [
       "<Figure size 432x288 with 1 Axes>"
      ]
     },
     "metadata": {
      "needs_background": "light"
     },
     "output_type": "display_data"
    }
   ],
   "source": [
    "# Графически определяю насколько несбалансированны данные\n",
    "sns.countplot(x='Credit Default', data=new_data, palette='hls')\n",
    "plt.show()"
   ]
  },
  {
   "cell_type": "code",
   "execution_count": 71,
   "metadata": {},
   "outputs": [
    {
     "name": "stdout",
     "output_type": "stream",
     "text": [
      "percentage of no default is 71.82666666666667\n",
      "percentage yes default is 28.173333333333332\n"
     ]
    }
   ],
   "source": [
    "# Уточняю насколько несбалансированны данные\n",
    "no_default = len(new_data[new_data['Credit Default']==0])\n",
    "yes_default = len(new_data[new_data['Credit Default']==1])\n",
    "perc_of_no_default= no_default/(no_default+yes_default)\n",
    "print(\"percentage of no default is\", perc_of_no_default*100)\n",
    "perc_yes_default = yes_default/(no_default+yes_default)\n",
    "print(\"percentage yes default is\", perc_yes_default*100)"
   ]
  },
  {
   "cell_type": "markdown",
   "metadata": {},
   "source": [
    "### Выявление значимых параметров ###"
   ]
  },
  {
   "cell_type": "code",
   "execution_count": 77,
   "metadata": {},
   "outputs": [
    {
     "data": {
      "text/plain": [
       "Text(0, 0.5, 'Proportion of Defaults')"
      ]
     },
     "execution_count": 77,
     "metadata": {},
     "output_type": "execute_result"
    },
    {
     "data": {
      "image/png": "[encoded data removed]",
      "text/plain": [
       "<Figure size 432x288 with 1 Axes>"
      ]
     },
     "metadata": {
      "needs_background": "light"
     },
     "output_type": "display_data"
    },
    {
     "data": {
      "image/png": "[encoded data removed]",
      "text/plain": [
       "<Figure size 432x288 with 1 Axes>"
      ]
     },
     "metadata": {
      "needs_background": "light"
     },
     "output_type": "display_data"
    },
    {
     "data": {
      "image/png": "[encoded data removed]",
      "text/plain": [
       "<Figure size 432x288 with 1 Axes>"
      ]
     },
     "metadata": {
      "needs_background": "light"
     },
     "output_type": "display_data"
    },
    {
     "data": {
      "image/png": "[encoded data removed]",
      "text/plain": [
       "<Figure size 432x288 with 1 Axes>"
      ]
     },
     "metadata": {
      "needs_background": "light"
     },
     "output_type": "display_data"
    },
    {
     "data": {
      "image/png": "[encoded data removed]",
      "text/plain": [
       "<Figure size 432x288 with 1 Axes>"
      ]
     },
     "metadata": {
      "needs_background": "light"
     },
     "output_type": "display_data"
    }
   ],
   "source": [
    "# Выявляю параметры, которые могут обладать наибольшей предсказательной способностью. Параметр, где гистаграмма\n",
    "# будет сильно менятся в зависимости от категории, буду считать с хорошей предсказательной способностью\n",
    "\n",
    "table_1=pd.crosstab(new_data['Home Ownership'], new_data['Credit Default'])\n",
    "table_1.div(table_1.sum(1).astype(float), axis=0).plot(kind='bar', stacked=True)\n",
    "plt.title('Stacked Bar Chart of Home ownership Status vs Default')\n",
    "plt.xlabel('Home ownership')\n",
    "plt.ylabel('Proportion of Defaults')\n",
    "\n",
    "table_2=pd.crosstab(new_data['Years in current job'], new_data['Credit Default'])\n",
    "table_2.div(table_2.sum(1).astype(float), axis=0).plot(kind='bar', stacked=True)\n",
    "plt.title('Stacked Bar Chart of Years in current job vs Default')\n",
    "plt.xlabel('Job experience')\n",
    "plt.ylabel('Proportion of Defaults')\n",
    "\n",
    "table_3=pd.crosstab(new_data['Number of Open Accounts'], new_data['Credit Default'])\n",
    "table_3.div(table_3.sum(1).astype(float), axis=0).plot(kind='bar', stacked=True)\n",
    "plt.title('Stacked Bar Chart of Number of accounts vs Default')\n",
    "plt.xlabel('Number of accounts')\n",
    "plt.ylabel('Proportion of Defaults')\n",
    "\n",
    "table_4=pd.crosstab(new_data['Number of Credit Problems'], new_data['Credit Default'])\n",
    "table_4.div(table_4.sum(1).astype(float), axis=0).plot(kind='bar', stacked=True)\n",
    "plt.title('Stacked Bar Chart of Number of problems vs Default')\n",
    "plt.xlabel('Number of problems')\n",
    "plt.ylabel('Proportion of Defaults')\n",
    "\n",
    "table_5=pd.crosstab(new_data['Bankruptcies'], new_data['Credit Default'])\n",
    "table_5.div(table_5.sum(1).astype(float), axis=0).plot(kind='bar', stacked=True)\n",
    "plt.title('Stacked Bar Chart of Bankruptcies vs Default')\n",
    "plt.xlabel('Bankruptcies')\n",
    "plt.ylabel('Proportion of Defaults')"
   ]
  },
  {
   "cell_type": "code",
   "execution_count": 80,
   "metadata": {},
   "outputs": [
    {
     "name": "stdout",
     "output_type": "stream",
     "text": [
      "<class 'pandas.core.frame.DataFrame'>\n",
      "RangeIndex: 10000 entries, 0 to 9999\n",
      "Data columns (total 16 columns):\n",
      " #   Column                        Non-Null Count  Dtype  \n",
      "---  ------                        --------------  -----  \n",
      " 0   Home Ownership                10000 non-null  object \n",
      " 1   Annual Income                 10000 non-null  float64\n",
      " 2   Tax Liens                     10000 non-null  object \n",
      " 3   Number of Open Accounts       10000 non-null  object \n",
      " 4   Years of Credit History       10000 non-null  float64\n",
      " 5   Maximum Open Credit           10000 non-null  float64\n",
      " 6   Number of Credit Problems     10000 non-null  object \n",
      " 7   Months since last delinquent  10000 non-null  float64\n",
      " 8   Purpose                       10000 non-null  object \n",
      " 9   Term                          10000 non-null  object \n",
      " 10  Current Loan Amount           10000 non-null  float64\n",
      " 11  Current Credit Balance        10000 non-null  float64\n",
      " 12  Monthly Debt                  10000 non-null  float64\n",
      " 13  Credit Score                  10000 non-null  float64\n",
      " 14  Credit Default                7500 non-null   float64\n",
      " 15  remaining money               10000 non-null  float64\n",
      "dtypes: float64(10), object(6)\n",
      "memory usage: 1.2+ MB\n"
     ]
    }
   ],
   "source": [
    "# Удаляю два столбца - Years in current job, Bankruptcies, так как данные параметры имеют низкую предскательную способность\n",
    "\n",
    "new_data = new_data.drop(['Years in current job', 'Bankruptcies'], axis=1)\n",
    "new_data['remaining money'] = new_data['remaining money'].astype(float)\n",
    "new_data['Tax Liens'] = new_data['Tax Liens'].astype(object)\n",
    "new_data['Number of Open Accounts'] = new_data['Number of Open Accounts'].astype(object)\n",
    "new_data['Number of Credit Problems'] = new_data['Number of Credit Problems'].astype(object)\n",
    "new_data.info()"
   ]
  },
  {
   "cell_type": "code",
   "execution_count": 81,
   "metadata": {},
   "outputs": [],
   "source": [
    "new_data = pd.get_dummies(new_data, dtype=float)"
   ]
  },
  {
   "cell_type": "code",
   "execution_count": 82,
   "metadata": {},
   "outputs": [
    {
     "name": "stdout",
     "output_type": "stream",
     "text": [
      "<class 'pandas.core.frame.DataFrame'>\n",
      "RangeIndex: 10000 entries, 0 to 9999\n",
      "Data columns (total 50 columns):\n",
      " #   Column                         Non-Null Count  Dtype  \n",
      "---  ------                         --------------  -----  \n",
      " 0   Annual Income                  10000 non-null  float64\n",
      " 1   Years of Credit History        10000 non-null  float64\n",
      " 2   Maximum Open Credit            10000 non-null  float64\n",
      " 3   Months since last delinquent   10000 non-null  float64\n",
      " 4   Current Loan Amount            10000 non-null  float64\n",
      " 5   Current Credit Balance         10000 non-null  float64\n",
      " 6   Monthly Debt                   10000 non-null  float64\n",
      " 7   Credit Score                   10000 non-null  float64\n",
      " 8   Credit Default                 7500 non-null   float64\n",
      " 9   remaining money                10000 non-null  float64\n",
      " 10  Home Ownership_Have Mortgage   10000 non-null  float64\n",
      " 11  Home Ownership_Home Mortgage   10000 non-null  float64\n",
      " 12  Home Ownership_Own Home        10000 non-null  float64\n",
      " 13  Home Ownership_Rent            10000 non-null  float64\n",
      " 14  Tax Liens_0.0                  10000 non-null  float64\n",
      " 15  Tax Liens_1.0                  10000 non-null  float64\n",
      " 16  Number of Open Accounts_3.0    10000 non-null  float64\n",
      " 17  Number of Open Accounts_4.0    10000 non-null  float64\n",
      " 18  Number of Open Accounts_5.0    10000 non-null  float64\n",
      " 19  Number of Open Accounts_6.0    10000 non-null  float64\n",
      " 20  Number of Open Accounts_7.0    10000 non-null  float64\n",
      " 21  Number of Open Accounts_8.0    10000 non-null  float64\n",
      " 22  Number of Open Accounts_9.0    10000 non-null  float64\n",
      " 23  Number of Open Accounts_10.0   10000 non-null  float64\n",
      " 24  Number of Open Accounts_11.0   10000 non-null  float64\n",
      " 25  Number of Open Accounts_12.0   10000 non-null  float64\n",
      " 26  Number of Open Accounts_13.0   10000 non-null  float64\n",
      " 27  Number of Open Accounts_14.0   10000 non-null  float64\n",
      " 28  Number of Open Accounts_15.0   10000 non-null  float64\n",
      " 29  Number of Open Accounts_16.0   10000 non-null  float64\n",
      " 30  Number of Open Accounts_17.0   10000 non-null  float64\n",
      " 31  Number of Open Accounts_18.0   10000 non-null  float64\n",
      " 32  Number of Open Accounts_19.0   10000 non-null  float64\n",
      " 33  Number of Open Accounts_20.0   10000 non-null  float64\n",
      " 34  Number of Open Accounts_21.0   10000 non-null  float64\n",
      " 35  Number of Credit Problems_0.0  10000 non-null  float64\n",
      " 36  Number of Credit Problems_1.0  10000 non-null  float64\n",
      " 37  Number of Credit Problems_2.0  10000 non-null  float64\n",
      " 38  Purpose_business loan          10000 non-null  float64\n",
      " 39  Purpose_buy a car              10000 non-null  float64\n",
      " 40  Purpose_buy house              10000 non-null  float64\n",
      " 41  Purpose_debt consolidation     10000 non-null  float64\n",
      " 42  Purpose_home improvements      10000 non-null  float64\n",
      " 43  Purpose_major purchase         10000 non-null  float64\n",
      " 44  Purpose_medical bills          10000 non-null  float64\n",
      " 45  Purpose_other                  10000 non-null  float64\n",
      " 46  Purpose_small business         10000 non-null  float64\n",
      " 47  Purpose_take a trip            10000 non-null  float64\n",
      " 48  Term_Long Term                 10000 non-null  float64\n",
      " 49  Term_Short Term                10000 non-null  float64\n",
      "dtypes: float64(50)\n",
      "memory usage: 3.8 MB\n"
     ]
    }
   ],
   "source": [
    "new_data.info()"
   ]
  },
  {
   "cell_type": "code",
   "execution_count": 84,
   "metadata": {},
   "outputs": [],
   "source": [
    "x = new_data[new_data['Credit Default'].notnull()]\n",
    "x_homework = new_data[new_data['Credit Default'].isnull()]\n",
    "\n",
    "y = pd.DataFrame(new_data[new_data['Credit Default'].notnull()], columns=['Credit Default'])"
   ]
  },
  {
   "cell_type": "code",
   "execution_count": 85,
   "metadata": {},
   "outputs": [
    {
     "name": "stdout",
     "output_type": "stream",
     "text": [
      "<class 'pandas.core.frame.DataFrame'>\n",
      "Int64Index: 7500 entries, 0 to 7499\n",
      "Data columns (total 49 columns):\n",
      " #   Column                         Non-Null Count  Dtype  \n",
      "---  ------                         --------------  -----  \n",
      " 0   Annual Income                  7500 non-null   float64\n",
      " 1   Years of Credit History        7500 non-null   float64\n",
      " 2   Maximum Open Credit            7500 non-null   float64\n",
      " 3   Months since last delinquent   7500 non-null   float64\n",
      " 4   Current Loan Amount            7500 non-null   float64\n",
      " 5   Current Credit Balance         7500 non-null   float64\n",
      " 6   Monthly Debt                   7500 non-null   float64\n",
      " 7   Credit Score                   7500 non-null   float64\n",
      " 8   remaining money                7500 non-null   float64\n",
      " 9   Home Ownership_Have Mortgage   7500 non-null   float64\n",
      " 10  Home Ownership_Home Mortgage   7500 non-null   float64\n",
      " 11  Home Ownership_Own Home        7500 non-null   float64\n",
      " 12  Home Ownership_Rent            7500 non-null   float64\n",
      " 13  Tax Liens_0.0                  7500 non-null   float64\n",
      " 14  Tax Liens_1.0                  7500 non-null   float64\n",
      " 15  Number of Open Accounts_3.0    7500 non-null   float64\n",
      " 16  Number of Open Accounts_4.0    7500 non-null   float64\n",
      " 17  Number of Open Accounts_5.0    7500 non-null   float64\n",
      " 18  Number of Open Accounts_6.0    7500 non-null   float64\n",
      " 19  Number of Open Accounts_7.0    7500 non-null   float64\n",
      " 20  Number of Open Accounts_8.0    7500 non-null   float64\n",
      " 21  Number of Open Accounts_9.0    7500 non-null   float64\n",
      " 22  Number of Open Accounts_10.0   7500 non-null   float64\n",
      " 23  Number of Open Accounts_11.0   7500 non-null   float64\n",
      " 24  Number of Open Accounts_12.0   7500 non-null   float64\n",
      " 25  Number of Open Accounts_13.0   7500 non-null   float64\n",
      " 26  Number of Open Accounts_14.0   7500 non-null   float64\n",
      " 27  Number of Open Accounts_15.0   7500 non-null   float64\n",
      " 28  Number of Open Accounts_16.0   7500 non-null   float64\n",
      " 29  Number of Open Accounts_17.0   7500 non-null   float64\n",
      " 30  Number of Open Accounts_18.0   7500 non-null   float64\n",
      " 31  Number of Open Accounts_19.0   7500 non-null   float64\n",
      " 32  Number of Open Accounts_20.0   7500 non-null   float64\n",
      " 33  Number of Open Accounts_21.0   7500 non-null   float64\n",
      " 34  Number of Credit Problems_0.0  7500 non-null   float64\n",
      " 35  Number of Credit Problems_1.0  7500 non-null   float64\n",
      " 36  Number of Credit Problems_2.0  7500 non-null   float64\n",
      " 37  Purpose_business loan          7500 non-null   float64\n",
      " 38  Purpose_buy a car              7500 non-null   float64\n",
      " 39  Purpose_buy house              7500 non-null   float64\n",
      " 40  Purpose_debt consolidation     7500 non-null   float64\n",
      " 41  Purpose_home improvements      7500 non-null   float64\n",
      " 42  Purpose_major purchase         7500 non-null   float64\n",
      " 43  Purpose_medical bills          7500 non-null   float64\n",
      " 44  Purpose_other                  7500 non-null   float64\n",
      " 45  Purpose_small business         7500 non-null   float64\n",
      " 46  Purpose_take a trip            7500 non-null   float64\n",
      " 47  Term_Long Term                 7500 non-null   float64\n",
      " 48  Term_Short Term                7500 non-null   float64\n",
      "dtypes: float64(49)\n",
      "memory usage: 2.9 MB\n"
     ]
    }
   ],
   "source": [
    "x = x.drop(['Credit Default'], axis=1)\n",
    "x.info()"
   ]
  },
  {
   "cell_type": "code",
   "execution_count": 86,
   "metadata": {},
   "outputs": [
    {
     "name": "stdout",
     "output_type": "stream",
     "text": [
      "<class 'pandas.core.frame.DataFrame'>\n",
      "Int64Index: 2500 entries, 7500 to 9999\n",
      "Data columns (total 49 columns):\n",
      " #   Column                         Non-Null Count  Dtype  \n",
      "---  ------                         --------------  -----  \n",
      " 0   Annual Income                  2500 non-null   float64\n",
      " 1   Years of Credit History        2500 non-null   float64\n",
      " 2   Maximum Open Credit            2500 non-null   float64\n",
      " 3   Months since last delinquent   2500 non-null   float64\n",
      " 4   Current Loan Amount            2500 non-null   float64\n",
      " 5   Current Credit Balance         2500 non-null   float64\n",
      " 6   Monthly Debt                   2500 non-null   float64\n",
      " 7   Credit Score                   2500 non-null   float64\n",
      " 8   remaining money                2500 non-null   float64\n",
      " 9   Home Ownership_Have Mortgage   2500 non-null   float64\n",
      " 10  Home Ownership_Home Mortgage   2500 non-null   float64\n",
      " 11  Home Ownership_Own Home        2500 non-null   float64\n",
      " 12  Home Ownership_Rent            2500 non-null   float64\n",
      " 13  Tax Liens_0.0                  2500 non-null   float64\n",
      " 14  Tax Liens_1.0                  2500 non-null   float64\n",
      " 15  Number of Open Accounts_3.0    2500 non-null   float64\n",
      " 16  Number of Open Accounts_4.0    2500 non-null   float64\n",
      " 17  Number of Open Accounts_5.0    2500 non-null   float64\n",
      " 18  Number of Open Accounts_6.0    2500 non-null   float64\n",
      " 19  Number of Open Accounts_7.0    2500 non-null   float64\n",
      " 20  Number of Open Accounts_8.0    2500 non-null   float64\n",
      " 21  Number of Open Accounts_9.0    2500 non-null   float64\n",
      " 22  Number of Open Accounts_10.0   2500 non-null   float64\n",
      " 23  Number of Open Accounts_11.0   2500 non-null   float64\n",
      " 24  Number of Open Accounts_12.0   2500 non-null   float64\n",
      " 25  Number of Open Accounts_13.0   2500 non-null   float64\n",
      " 26  Number of Open Accounts_14.0   2500 non-null   float64\n",
      " 27  Number of Open Accounts_15.0   2500 non-null   float64\n",
      " 28  Number of Open Accounts_16.0   2500 non-null   float64\n",
      " 29  Number of Open Accounts_17.0   2500 non-null   float64\n",
      " 30  Number of Open Accounts_18.0   2500 non-null   float64\n",
      " 31  Number of Open Accounts_19.0   2500 non-null   float64\n",
      " 32  Number of Open Accounts_20.0   2500 non-null   float64\n",
      " 33  Number of Open Accounts_21.0   2500 non-null   float64\n",
      " 34  Number of Credit Problems_0.0  2500 non-null   float64\n",
      " 35  Number of Credit Problems_1.0  2500 non-null   float64\n",
      " 36  Number of Credit Problems_2.0  2500 non-null   float64\n",
      " 37  Purpose_business loan          2500 non-null   float64\n",
      " 38  Purpose_buy a car              2500 non-null   float64\n",
      " 39  Purpose_buy house              2500 non-null   float64\n",
      " 40  Purpose_debt consolidation     2500 non-null   float64\n",
      " 41  Purpose_home improvements      2500 non-null   float64\n",
      " 42  Purpose_major purchase         2500 non-null   float64\n",
      " 43  Purpose_medical bills          2500 non-null   float64\n",
      " 44  Purpose_other                  2500 non-null   float64\n",
      " 45  Purpose_small business         2500 non-null   float64\n",
      " 46  Purpose_take a trip            2500 non-null   float64\n",
      " 47  Term_Long Term                 2500 non-null   float64\n",
      " 48  Term_Short Term                2500 non-null   float64\n",
      "dtypes: float64(49)\n",
      "memory usage: 976.6 KB\n"
     ]
    }
   ],
   "source": [
    "x_homework = x_homework.drop(['Credit Default'], axis=1)\n",
    "x_homework.info()"
   ]
  },
  {
   "cell_type": "code",
   "execution_count": 87,
   "metadata": {},
   "outputs": [],
   "source": [
    "ctb_model = ctb.CatBoostClassifier(n_estimators=300, learning_rate=0.035, class_weights=[1, 2.558], \n",
    "                                   max_depth=2, silent=True, random_state=21)\n",
    "rfe = RFE(ctb_model, 20)"
   ]
  },
  {
   "cell_type": "code",
   "execution_count": 89,
   "metadata": {},
   "outputs": [
    {
     "name": "stdout",
     "output_type": "stream",
     "text": [
      "[ True  True  True  True  True  True  True  True  True False  True False\n",
      "  True False False False False False False False  True False False False\n",
      " False False False False  True False False False  True False False False\n",
      "  True  True False False  True False False False False  True False  True\n",
      "  True]\n"
     ]
    }
   ],
   "source": [
    "# Удаляю малозначимые параметры после применениея dummies\n",
    "selector = RFE(estimator=ctb_model, n_features_to_select=20, step=1)\n",
    "rfe = rfe.fit(x, y.values.ravel())\n",
    "print(rfe.support_)"
   ]
  },
  {
   "cell_type": "code",
   "execution_count": 92,
   "metadata": {},
   "outputs": [
    {
     "name": "stdout",
     "output_type": "stream",
     "text": [
      "Index(['Home Ownership_Have Mortgage', 'Home Ownership_Own Home',\n",
      "       'Tax Liens_0.0', 'Tax Liens_1.0', 'Number of Open Accounts_3.0',\n",
      "       'Number of Open Accounts_4.0', 'Number of Open Accounts_5.0',\n",
      "       'Number of Open Accounts_6.0', 'Number of Open Accounts_7.0',\n",
      "       'Number of Open Accounts_9.0', 'Number of Open Accounts_10.0',\n",
      "       'Number of Open Accounts_11.0', 'Number of Open Accounts_12.0',\n",
      "       'Number of Open Accounts_13.0', 'Number of Open Accounts_14.0',\n",
      "       'Number of Open Accounts_15.0', 'Number of Open Accounts_17.0',\n",
      "       'Number of Open Accounts_18.0', 'Number of Open Accounts_19.0',\n",
      "       'Number of Open Accounts_21.0', 'Number of Credit Problems_0.0',\n",
      "       'Number of Credit Problems_1.0', 'Purpose_buy a car',\n",
      "       'Purpose_buy house', 'Purpose_home improvements',\n",
      "       'Purpose_major purchase', 'Purpose_medical bills', 'Purpose_other',\n",
      "       'Purpose_take a trip'],\n",
      "      dtype='object')\n"
     ]
    }
   ],
   "source": [
    "cols = list(x.columns)\n",
    "best_features = pd.Series(rfe.support_,index = cols)\n",
    "new_features = best_features[best_features==False].index\n",
    "print(new_features)"
   ]
  },
  {
   "cell_type": "code",
   "execution_count": 93,
   "metadata": {},
   "outputs": [
    {
     "name": "stdout",
     "output_type": "stream",
     "text": [
      "<class 'pandas.core.frame.DataFrame'>\n",
      "Int64Index: 7500 entries, 0 to 7499\n",
      "Data columns (total 20 columns):\n",
      " #   Column                         Non-Null Count  Dtype  \n",
      "---  ------                         --------------  -----  \n",
      " 0   Annual Income                  7500 non-null   float64\n",
      " 1   Years of Credit History        7500 non-null   float64\n",
      " 2   Maximum Open Credit            7500 non-null   float64\n",
      " 3   Months since last delinquent   7500 non-null   float64\n",
      " 4   Current Loan Amount            7500 non-null   float64\n",
      " 5   Current Credit Balance         7500 non-null   float64\n",
      " 6   Monthly Debt                   7500 non-null   float64\n",
      " 7   Credit Score                   7500 non-null   float64\n",
      " 8   remaining money                7500 non-null   float64\n",
      " 9   Home Ownership_Home Mortgage   7500 non-null   float64\n",
      " 10  Home Ownership_Rent            7500 non-null   float64\n",
      " 11  Number of Open Accounts_8.0    7500 non-null   float64\n",
      " 12  Number of Open Accounts_16.0   7500 non-null   float64\n",
      " 13  Number of Open Accounts_20.0   7500 non-null   float64\n",
      " 14  Number of Credit Problems_2.0  7500 non-null   float64\n",
      " 15  Purpose_business loan          7500 non-null   float64\n",
      " 16  Purpose_debt consolidation     7500 non-null   float64\n",
      " 17  Purpose_small business         7500 non-null   float64\n",
      " 18  Term_Long Term                 7500 non-null   float64\n",
      " 19  Term_Short Term                7500 non-null   float64\n",
      "dtypes: float64(20)\n",
      "memory usage: 1.2 MB\n"
     ]
    }
   ],
   "source": [
    "x = x.drop(['Home Ownership_Have Mortgage', 'Home Ownership_Own Home',\n",
    "       'Tax Liens_0.0', 'Tax Liens_1.0', 'Number of Open Accounts_3.0',\n",
    "       'Number of Open Accounts_4.0', 'Number of Open Accounts_5.0',\n",
    "       'Number of Open Accounts_6.0', 'Number of Open Accounts_7.0',\n",
    "       'Number of Open Accounts_9.0', 'Number of Open Accounts_10.0',\n",
    "       'Number of Open Accounts_11.0', 'Number of Open Accounts_12.0',\n",
    "       'Number of Open Accounts_13.0', 'Number of Open Accounts_14.0',\n",
    "       'Number of Open Accounts_15.0', 'Number of Open Accounts_17.0',\n",
    "       'Number of Open Accounts_18.0', 'Number of Open Accounts_19.0',\n",
    "       'Number of Open Accounts_21.0', 'Number of Credit Problems_0.0',\n",
    "       'Number of Credit Problems_1.0', 'Purpose_buy a car',\n",
    "       'Purpose_buy house', 'Purpose_home improvements',\n",
    "       'Purpose_major purchase', 'Purpose_medical bills', 'Purpose_other',\n",
    "       'Purpose_take a trip'], \n",
    "           axis=1)\n",
    "x.info()"
   ]
  },
  {
   "cell_type": "code",
   "execution_count": 94,
   "metadata": {},
   "outputs": [
    {
     "name": "stdout",
     "output_type": "stream",
     "text": [
      "<class 'pandas.core.frame.DataFrame'>\n",
      "Int64Index: 2500 entries, 7500 to 9999\n",
      "Data columns (total 20 columns):\n",
      " #   Column                         Non-Null Count  Dtype  \n",
      "---  ------                         --------------  -----  \n",
      " 0   Annual Income                  2500 non-null   float64\n",
      " 1   Years of Credit History        2500 non-null   float64\n",
      " 2   Maximum Open Credit            2500 non-null   float64\n",
      " 3   Months since last delinquent   2500 non-null   float64\n",
      " 4   Current Loan Amount            2500 non-null   float64\n",
      " 5   Current Credit Balance         2500 non-null   float64\n",
      " 6   Monthly Debt                   2500 non-null   float64\n",
      " 7   Credit Score                   2500 non-null   float64\n",
      " 8   remaining money                2500 non-null   float64\n",
      " 9   Home Ownership_Home Mortgage   2500 non-null   float64\n",
      " 10  Home Ownership_Rent            2500 non-null   float64\n",
      " 11  Number of Open Accounts_8.0    2500 non-null   float64\n",
      " 12  Number of Open Accounts_16.0   2500 non-null   float64\n",
      " 13  Number of Open Accounts_20.0   2500 non-null   float64\n",
      " 14  Number of Credit Problems_2.0  2500 non-null   float64\n",
      " 15  Purpose_business loan          2500 non-null   float64\n",
      " 16  Purpose_debt consolidation     2500 non-null   float64\n",
      " 17  Purpose_small business         2500 non-null   float64\n",
      " 18  Term_Long Term                 2500 non-null   float64\n",
      " 19  Term_Short Term                2500 non-null   float64\n",
      "dtypes: float64(20)\n",
      "memory usage: 410.2 KB\n"
     ]
    }
   ],
   "source": [
    "x_homework = x_homework.drop(['Home Ownership_Have Mortgage', 'Home Ownership_Own Home',\n",
    "       'Tax Liens_0.0', 'Tax Liens_1.0', 'Number of Open Accounts_3.0',\n",
    "       'Number of Open Accounts_4.0', 'Number of Open Accounts_5.0',\n",
    "       'Number of Open Accounts_6.0', 'Number of Open Accounts_7.0',\n",
    "       'Number of Open Accounts_9.0', 'Number of Open Accounts_10.0',\n",
    "       'Number of Open Accounts_11.0', 'Number of Open Accounts_12.0',\n",
    "       'Number of Open Accounts_13.0', 'Number of Open Accounts_14.0',\n",
    "       'Number of Open Accounts_15.0', 'Number of Open Accounts_17.0',\n",
    "       'Number of Open Accounts_18.0', 'Number of Open Accounts_19.0',\n",
    "       'Number of Open Accounts_21.0', 'Number of Credit Problems_0.0',\n",
    "       'Number of Credit Problems_1.0', 'Purpose_buy a car',\n",
    "       'Purpose_buy house', 'Purpose_home improvements',\n",
    "       'Purpose_major purchase', 'Purpose_medical bills', 'Purpose_other',\n",
    "       'Purpose_take a trip'], \n",
    "           axis=1)\n",
    "x_homework.info()"
   ]
  },
  {
   "cell_type": "code",
   "execution_count": 100,
   "metadata": {},
   "outputs": [
    {
     "name": "stdout",
     "output_type": "stream",
     "text": [
      "Optimization terminated successfully.\n",
      "         Current function value: 0.460292\n",
      "         Iterations 12\n",
      "                               Results: Logit\n",
      "=============================================================================\n",
      "Model:                   Logit                Pseudo R-squared:     0.226    \n",
      "Dependent Variable:      Credit Default       AIC:                  6944.3845\n",
      "Date:                    2020-11-12 14:20     BIC:                  7082.8377\n",
      "No. Observations:        7500                 Log-Likelihood:       -3452.2  \n",
      "Df Model:                19                   LL-Null:              -4459.4  \n",
      "Df Residuals:            7480                 LLR p-value:          0.0000   \n",
      "Converged:               1.0000               Scale:                1.0000   \n",
      "No. Iterations:          12.0000                                             \n",
      "-----------------------------------------------------------------------------\n",
      "                               Coef.  Std.Err.    z    P>|z|   [0.025  0.975]\n",
      "-----------------------------------------------------------------------------\n",
      "Annual Income                 -0.0000   0.0000 -2.3154 0.0206 -0.0000 -0.0000\n",
      "Years of Credit History        0.0021   0.0044  0.4799 0.6313 -0.0066  0.0108\n",
      "Maximum Open Credit           -0.0000   0.0000 -5.5987 0.0000 -0.0000 -0.0000\n",
      "Months since last delinquent  -0.0019   0.0020 -0.9491 0.3426 -0.0058  0.0020\n",
      "Current Loan Amount           -0.0000   0.0000 -3.1913 0.0014 -0.0000 -0.0000\n",
      "Current Credit Balance         0.0000   0.0000  3.9053 0.0001  0.0000  0.0000\n",
      "Monthly Debt                   0.0000   0.0000  5.7316 0.0000  0.0000  0.0000\n",
      "Credit Score                   0.0013   0.0002  5.4564 0.0000  0.0008  0.0017\n",
      "remaining money                0.0000   0.0000  1.8902 0.0587 -0.0000  0.0000\n",
      "Home Ownership_Home Mortgage  -0.1366   0.1099 -1.2436 0.2137 -0.3519  0.0787\n",
      "Home Ownership_Rent            0.2055   0.1096  1.8753 0.0607 -0.0093  0.4203\n",
      "Number of Open Accounts_8.0   -0.2180   0.1092 -1.9972 0.0458 -0.4320 -0.0041\n",
      "Number of Open Accounts_16.0   0.3575   0.1571  2.2759 0.0229  0.0496  0.6654\n",
      "Number of Open Accounts_20.0   0.6682   0.2401  2.7836 0.0054  0.1977  1.1387\n",
      "Number of Credit Problems_2.0  0.3727   0.2239  1.6642 0.0961 -0.0662  0.8116\n",
      "Purpose_business loan          0.6144   0.2185  2.8120 0.0049  0.1862  1.0427\n",
      "Purpose_debt consolidation    -0.1780   0.0761 -2.3387 0.0194 -0.3272 -0.0288\n",
      "Purpose_small business         0.8745   0.4729  1.8492 0.0644 -0.0524  1.8013\n",
      "Term_Long Term                -0.4899   0.2340 -2.0930 0.0363 -0.9486 -0.0311\n",
      "Term_Short Term               -1.4753   0.2315 -6.3735 0.0000 -1.9290 -1.0216\n",
      "=============================================================================\n",
      "\n"
     ]
    }
   ],
   "source": [
    "# Удаляю параметры, у которых p > 0,05\n",
    "logit_model=sm.Logit(y,x)\n",
    "result=logit_model.fit()\n",
    "print(result.summary2())"
   ]
  },
  {
   "cell_type": "code",
   "execution_count": 102,
   "metadata": {},
   "outputs": [],
   "source": [
    "x = x.drop(['Years of Credit History', 'Months since last delinquent', 'remaining money', 'Home Ownership_Home Mortgage',\n",
    "          'Home Ownership_Rent', 'Number of Credit Problems_2.0', 'Purpose_small business'], axis=1)\n",
    "x_homework = x_homework.drop(['Years of Credit History', 'Months since last delinquent', 'remaining money', \n",
    "                              'Home Ownership_Home Mortgage','Home Ownership_Rent', 'Number of Credit Problems_2.0', \n",
    "                              'Purpose_small business'], axis=1)"
   ]
  },
  {
   "cell_type": "code",
   "execution_count": 103,
   "metadata": {},
   "outputs": [],
   "source": [
    "x.to_pickle(r\"D:\\GeekBrains\\Pytho_libraries pt.2\\x_classification_1.pkl\")\n",
    "y.to_pickle(r\"D:\\GeekBrains\\Pytho_libraries pt.2\\y_classification_1.pkl\")\n",
    "x_homework.to_pickle(r\"D:\\GeekBrains\\Pytho_libraries pt.2\\x_homework_classification_1.pkl\")\n",
    "y_homework.to_pickle(r\"D:\\GeekBrains\\Pytho_libraries pt.2\\y_homework_classification_1.pkl\")"
   ]
  },
  {
   "cell_type": "code",
   "execution_count": 104,
   "metadata": {},
   "outputs": [
    {
     "data": {
      "text/plain": [
       "<catboost.core.CatBoostClassifier at 0x1c77aa3de08>"
      ]
     },
     "execution_count": 104,
     "metadata": {},
     "output_type": "execute_result"
    }
   ],
   "source": [
    "x_train, x_test, y_train, y_test = train_test_split(x, y, test_size=0.3, shuffle=True, random_state=21)"
   ]
  },
  {
   "cell_type": "code",
   "execution_count": 128,
   "metadata": {},
   "outputs": [
    {
     "data": {
      "text/plain": [
       "<catboost.core.CatBoostClassifier at 0x1c77a1d8a08>"
      ]
     },
     "execution_count": 128,
     "metadata": {},
     "output_type": "execute_result"
    }
   ],
   "source": [
    "ctb_model = ctb.CatBoostClassifier(n_estimators=200, learning_rate=0.005, class_weights=[1, 2.549], \n",
    "                                   max_depth=4, silent=True, random_state=21)\n",
    "ctb_model.fit(x_train, y_train)"
   ]
  },
  {
   "cell_type": "code",
   "execution_count": 129,
   "metadata": {},
   "outputs": [
    {
     "name": "stdout",
     "output_type": "stream",
     "text": [
      "f1_train: 0.5241660993873383 \n",
      "Precision_train:  0.5277587388622345 \n",
      "Recall_train:  0.5206220419202163 \n",
      "\n",
      "f1_test: 0.5206349206349207 \n",
      "Precision_test:  0.5239616613418531 \n",
      "Recall_test:  0.5173501577287066\n"
     ]
    }
   ],
   "source": [
    "y_pred_train = ctb_model.predict(x_train)\n",
    "y_pred_test = ctb_model.predict(x_test)\n",
    "f1_train = f1_score(y_train, y_pred_train)\n",
    "prec_train = precision_score(y_train, y_pred_train)\n",
    "rec_train = recall_score(y_train, y_pred_train)\n",
    "f1_test = f1_score(y_test, y_pred_test)\n",
    "prec_test = precision_score(y_test, y_pred_test)\n",
    "rec_test = recall_score(y_test, y_pred_test)\n",
    "\n",
    "\n",
    "print(\"f1_train: {} \\nPrecision_train:  {} \\nRecall_train:  {} \\n\\nf1_test: {} \\nPrecision_test:  {} \\nRecall_test:  {}\".format(f1_train, prec_train, rec_train, \n",
    "                                                                f1_test, prec_test, rec_test))"
   ]
  },
  {
   "cell_type": "code",
   "execution_count": 133,
   "metadata": {},
   "outputs": [
    {
     "data": {
      "text/html": [
       "<div>\n",
       "<style scoped>\n",
       "    .dataframe tbody tr th:only-of-type {\n",
       "        vertical-align: middle;\n",
       "    }\n",
       "\n",
       "    .dataframe tbody tr th {\n",
       "        vertical-align: top;\n",
       "    }\n",
       "\n",
       "    .dataframe thead th {\n",
       "        text-align: right;\n",
       "    }\n",
       "</style>\n",
       "<table border=\"1\" class=\"dataframe\">\n",
       "  <thead>\n",
       "    <tr style=\"text-align: right;\">\n",
       "      <th></th>\n",
       "      <th>Credit Default</th>\n",
       "    </tr>\n",
       "  </thead>\n",
       "  <tbody>\n",
       "    <tr>\n",
       "      <th>0</th>\n",
       "      <td>0.0</td>\n",
       "    </tr>\n",
       "    <tr>\n",
       "      <th>1</th>\n",
       "      <td>1.0</td>\n",
       "    </tr>\n",
       "    <tr>\n",
       "      <th>2</th>\n",
       "      <td>1.0</td>\n",
       "    </tr>\n",
       "    <tr>\n",
       "      <th>3</th>\n",
       "      <td>0.0</td>\n",
       "    </tr>\n",
       "    <tr>\n",
       "      <th>4</th>\n",
       "      <td>0.0</td>\n",
       "    </tr>\n",
       "  </tbody>\n",
       "</table>\n",
       "</div>"
      ],
      "text/plain": [
       "   Credit Default\n",
       "0             0.0\n",
       "1             1.0\n",
       "2             1.0\n",
       "3             0.0\n",
       "4             0.0"
      ]
     },
     "execution_count": 133,
     "metadata": {},
     "output_type": "execute_result"
    }
   ],
   "source": [
    "y_homework_pred = ctb_model.predict(x_homework)\n",
    "predicted_data = pd.DataFrame(y_homework_pred, columns=['Credit Default'])"
   ]
  },
  {
   "cell_type": "code",
   "execution_count": 134,
   "metadata": {},
   "outputs": [],
   "source": [
    "predicted_data.to_csv(r\"D:\\GeekBrains\\Pytho_libraries pt.2\\Dzhalagoniya_predictions_classification.csv\")"
   ]
  }
 ],
 "metadata": {
  "kernelspec": {
   "display_name": "Python 3",
   "language": "python",
   "name": "python3"
  },
  "language_info": {
   "codemirror_mode": {
    "name": "ipython",
    "version": 3
   },
   "file_extension": ".py",
   "mimetype": "text/x-python",
   "name": "python",
   "nbconvert_exporter": "python",
   "pygments_lexer": "ipython3",
   "version": "3.7.6"
  }
 },
 "nbformat": 4,
 "nbformat_minor": 4
}
